{
  "nbformat": 4,
  "nbformat_minor": 0,
  "metadata": {
    "colab": {
      "name": "Classwork.ipynb",
      "provenance": [],
      "collapsed_sections": [],
      "include_colab_link": true
    },
    "kernelspec": {
      "name": "python3",
      "display_name": "Python 3"
    },
    "language_info": {
      "name": "python"
    }
  },
  "cells": [
    {
      "cell_type": "markdown",
      "metadata": {
        "id": "view-in-github",
        "colab_type": "text"
      },
      "source": [
        "<a href=\"https://colab.research.google.com/github/mizgoines/ConsoleApplicationLab1/blob/master/Classwork.ipynb\" target=\"_parent\"><img src=\"https://colab.research.google.com/assets/colab-badge.svg\" alt=\"Open In Colab\"/></a>"
      ]
    },
    {
      "cell_type": "markdown",
      "metadata": {
        "id": "h7jkNjPEuZ84"
      },
      "source": [
        "# Detroit Crime Analysis\n",
        "https://data.detroitmi.gov/datasets/0825badfe6304620a998d162be0e135e_0?geometry=-83.753%2C42.264%2C-82.445%2C42.442\n"
      ]
    },
    {
      "cell_type": "code",
      "metadata": {
        "id": "ET1QgC2atldG",
        "colab": {
          "base_uri": "https://localhost:8080/",
          "height": 481
        },
        "outputId": "d4942ac9-4051-47a1-fa7c-d164d6e5cb1f"
      },
      "source": [
        "import pandas as pd\n",
        "df1 = pd.read_csv('https://storage.googleapis.com/files.mobibootcamp.com/2021-data-sets/RMS_Crime_Incidents.csv')\n",
        "df1.head()"
      ],
      "execution_count": null,
      "outputs": [
        {
          "output_type": "stream",
          "text": [
            "/usr/local/lib/python3.7/dist-packages/IPython/core/interactiveshell.py:2718: DtypeWarning: Columns (8,15,16) have mixed types.Specify dtype option on import or set low_memory=False.\n",
            "  interactivity=interactivity, compiler=compiler, result=result)\n"
          ],
          "name": "stderr"
        },
        {
          "output_type": "execute_result",
          "data": {
            "text/html": [
              "<div>\n",
              "<style scoped>\n",
              "    .dataframe tbody tr th:only-of-type {\n",
              "        vertical-align: middle;\n",
              "    }\n",
              "\n",
              "    .dataframe tbody tr th {\n",
              "        vertical-align: top;\n",
              "    }\n",
              "\n",
              "    .dataframe thead th {\n",
              "        text-align: right;\n",
              "    }\n",
              "</style>\n",
              "<table border=\"1\" class=\"dataframe\">\n",
              "  <thead>\n",
              "    <tr style=\"text-align: right;\">\n",
              "      <th></th>\n",
              "      <th>X</th>\n",
              "      <th>Y</th>\n",
              "      <th>crime_id</th>\n",
              "      <th>report_number</th>\n",
              "      <th>address</th>\n",
              "      <th>offense_description</th>\n",
              "      <th>offense_category</th>\n",
              "      <th>state_offense_code</th>\n",
              "      <th>arrest_charge</th>\n",
              "      <th>charge_description</th>\n",
              "      <th>incident_timestamp</th>\n",
              "      <th>incident_time</th>\n",
              "      <th>day_of_week</th>\n",
              "      <th>hour_of_day</th>\n",
              "      <th>year</th>\n",
              "      <th>scout_car_area</th>\n",
              "      <th>precinct</th>\n",
              "      <th>block_id</th>\n",
              "      <th>neighborhood</th>\n",
              "      <th>council_district</th>\n",
              "      <th>zip_code</th>\n",
              "      <th>longitude</th>\n",
              "      <th>latitude</th>\n",
              "      <th>oid</th>\n",
              "    </tr>\n",
              "  </thead>\n",
              "  <tbody>\n",
              "    <tr>\n",
              "      <th>0</th>\n",
              "      <td>-83.171428</td>\n",
              "      <td>42.356303</td>\n",
              "      <td>3005325</td>\n",
              "      <td>1612230018</td>\n",
              "      <td>Mackenzie St &amp; Sorrento St</td>\n",
              "      <td>ROBBERY</td>\n",
              "      <td>ROBBERY</td>\n",
              "      <td>1201</td>\n",
              "      <td>12000</td>\n",
              "      <td>ROBBERY</td>\n",
              "      <td>2016/12/23 12:23:00+00</td>\n",
              "      <td>07:23:00</td>\n",
              "      <td>5</td>\n",
              "      <td>7</td>\n",
              "      <td>2016</td>\n",
              "      <td>0208</td>\n",
              "      <td>02</td>\n",
              "      <td>261635356002005</td>\n",
              "      <td>Aviation Sub</td>\n",
              "      <td>7</td>\n",
              "      <td>48228</td>\n",
              "      <td>-83.171428</td>\n",
              "      <td>42.356303</td>\n",
              "      <td>1</td>\n",
              "    </tr>\n",
              "    <tr>\n",
              "      <th>1</th>\n",
              "      <td>-83.131659</td>\n",
              "      <td>42.307950</td>\n",
              "      <td>3006375</td>\n",
              "      <td>1612260215</td>\n",
              "      <td>Lawndale St &amp; Senator St</td>\n",
              "      <td>ARSON</td>\n",
              "      <td>ARSON</td>\n",
              "      <td>2099</td>\n",
              "      <td>20000</td>\n",
              "      <td>ARSON</td>\n",
              "      <td>2016/12/26 08:30:00+00</td>\n",
              "      <td>03:30:00</td>\n",
              "      <td>1</td>\n",
              "      <td>3</td>\n",
              "      <td>2016</td>\n",
              "      <td>0408</td>\n",
              "      <td>04</td>\n",
              "      <td>261635242005001</td>\n",
              "      <td>Springwells</td>\n",
              "      <td>6</td>\n",
              "      <td>48209</td>\n",
              "      <td>-83.131659</td>\n",
              "      <td>42.307950</td>\n",
              "      <td>2</td>\n",
              "    </tr>\n",
              "    <tr>\n",
              "      <th>2</th>\n",
              "      <td>-83.226076</td>\n",
              "      <td>42.354101</td>\n",
              "      <td>3012257</td>\n",
              "      <td>1701110189</td>\n",
              "      <td>Artesian St &amp; Constance St</td>\n",
              "      <td>ROBBERY</td>\n",
              "      <td>ROBBERY</td>\n",
              "      <td>1201</td>\n",
              "      <td>12000</td>\n",
              "      <td>ROBBERY</td>\n",
              "      <td>2017/01/11 09:30:00+00</td>\n",
              "      <td>04:30:00</td>\n",
              "      <td>3</td>\n",
              "      <td>4</td>\n",
              "      <td>2017</td>\n",
              "      <td>0610</td>\n",
              "      <td>06</td>\n",
              "      <td>261635460004005</td>\n",
              "      <td>Warrendale</td>\n",
              "      <td>7</td>\n",
              "      <td>48228</td>\n",
              "      <td>-83.226076</td>\n",
              "      <td>42.354101</td>\n",
              "      <td>3</td>\n",
              "    </tr>\n",
              "    <tr>\n",
              "      <th>3</th>\n",
              "      <td>-83.096278</td>\n",
              "      <td>42.442265</td>\n",
              "      <td>3025623</td>\n",
              "      <td>1702150169</td>\n",
              "      <td>E Remington Ave &amp; Omira St</td>\n",
              "      <td>ARSON</td>\n",
              "      <td>ARSON</td>\n",
              "      <td>2099</td>\n",
              "      <td>20000</td>\n",
              "      <td>ARSON</td>\n",
              "      <td>2017/02/15 22:40:00+00</td>\n",
              "      <td>17:40:00</td>\n",
              "      <td>3</td>\n",
              "      <td>17</td>\n",
              "      <td>2017</td>\n",
              "      <td>1101</td>\n",
              "      <td>11</td>\n",
              "      <td>261635081004009</td>\n",
              "      <td>Nolan</td>\n",
              "      <td>3</td>\n",
              "      <td>48203</td>\n",
              "      <td>-83.096278</td>\n",
              "      <td>42.442265</td>\n",
              "      <td>4</td>\n",
              "    </tr>\n",
              "    <tr>\n",
              "      <th>4</th>\n",
              "      <td>-82.951218</td>\n",
              "      <td>42.446557</td>\n",
              "      <td>3033332</td>\n",
              "      <td>1703020033</td>\n",
              "      <td>Bringard Dr &amp; Cordell St</td>\n",
              "      <td>ARSON</td>\n",
              "      <td>ARSON</td>\n",
              "      <td>2099</td>\n",
              "      <td>20000</td>\n",
              "      <td>ARSON</td>\n",
              "      <td>2017/03/02 12:20:00+00</td>\n",
              "      <td>07:20:00</td>\n",
              "      <td>4</td>\n",
              "      <td>7</td>\n",
              "      <td>2017</td>\n",
              "      <td>0903</td>\n",
              "      <td>09</td>\n",
              "      <td>261635001002002</td>\n",
              "      <td>Regent Park</td>\n",
              "      <td>3</td>\n",
              "      <td>48205</td>\n",
              "      <td>-82.951218</td>\n",
              "      <td>42.446557</td>\n",
              "      <td>5</td>\n",
              "    </tr>\n",
              "  </tbody>\n",
              "</table>\n",
              "</div>"
            ],
            "text/plain": [
              "           X          Y  crime_id  ...  longitude   latitude oid\n",
              "0 -83.171428  42.356303   3005325  ... -83.171428  42.356303   1\n",
              "1 -83.131659  42.307950   3006375  ... -83.131659  42.307950   2\n",
              "2 -83.226076  42.354101   3012257  ... -83.226076  42.354101   3\n",
              "3 -83.096278  42.442265   3025623  ... -83.096278  42.442265   4\n",
              "4 -82.951218  42.446557   3033332  ... -82.951218  42.446557   5\n",
              "\n",
              "[5 rows x 24 columns]"
            ]
          },
          "metadata": {
            "tags": []
          },
          "execution_count": 3
        }
      ]
    },
    {
      "cell_type": "code",
      "metadata": {
        "colab": {
          "base_uri": "https://localhost:8080/"
        },
        "id": "OwEf4X9hGVDY",
        "outputId": "ac072bbd-fc8a-4e0f-fcaa-59dc04ce78bf"
      },
      "source": [
        "(df1['X'] == df1.longitude).value_counts()"
      ],
      "execution_count": null,
      "outputs": [
        {
          "output_type": "execute_result",
          "data": {
            "text/plain": [
              "False    355993\n",
              "True          7\n",
              "dtype: int64"
            ]
          },
          "metadata": {
            "tags": []
          },
          "execution_count": 3
        }
      ]
    },
    {
      "cell_type": "code",
      "metadata": {
        "colab": {
          "base_uri": "https://localhost:8080/",
          "height": 446
        },
        "id": "txwFoLQxghRU",
        "outputId": "aeb256ba-d682-422c-b7ec-af47ad567cc0"
      },
      "source": [
        "# santhoshini\n",
        "df1.drop(['X','Y'] , axis=1 , inplace=True)\n",
        "df1.head()"
      ],
      "execution_count": null,
      "outputs": [
        {
          "output_type": "execute_result",
          "data": {
            "text/html": [
              "<div>\n",
              "<style scoped>\n",
              "    .dataframe tbody tr th:only-of-type {\n",
              "        vertical-align: middle;\n",
              "    }\n",
              "\n",
              "    .dataframe tbody tr th {\n",
              "        vertical-align: top;\n",
              "    }\n",
              "\n",
              "    .dataframe thead th {\n",
              "        text-align: right;\n",
              "    }\n",
              "</style>\n",
              "<table border=\"1\" class=\"dataframe\">\n",
              "  <thead>\n",
              "    <tr style=\"text-align: right;\">\n",
              "      <th></th>\n",
              "      <th>crime_id</th>\n",
              "      <th>report_number</th>\n",
              "      <th>address</th>\n",
              "      <th>offense_description</th>\n",
              "      <th>offense_category</th>\n",
              "      <th>state_offense_code</th>\n",
              "      <th>arrest_charge</th>\n",
              "      <th>charge_description</th>\n",
              "      <th>incident_timestamp</th>\n",
              "      <th>incident_time</th>\n",
              "      <th>day_of_week</th>\n",
              "      <th>hour_of_day</th>\n",
              "      <th>year</th>\n",
              "      <th>scout_car_area</th>\n",
              "      <th>precinct</th>\n",
              "      <th>block_id</th>\n",
              "      <th>neighborhood</th>\n",
              "      <th>council_district</th>\n",
              "      <th>zip_code</th>\n",
              "      <th>longitude</th>\n",
              "      <th>latitude</th>\n",
              "      <th>oid</th>\n",
              "    </tr>\n",
              "  </thead>\n",
              "  <tbody>\n",
              "    <tr>\n",
              "      <th>0</th>\n",
              "      <td>3005325</td>\n",
              "      <td>1612230018</td>\n",
              "      <td>Mackenzie St &amp; Sorrento St</td>\n",
              "      <td>ROBBERY</td>\n",
              "      <td>ROBBERY</td>\n",
              "      <td>1201</td>\n",
              "      <td>12000</td>\n",
              "      <td>ROBBERY</td>\n",
              "      <td>2016/12/23 12:23:00+00</td>\n",
              "      <td>07:23:00</td>\n",
              "      <td>5</td>\n",
              "      <td>7</td>\n",
              "      <td>2016</td>\n",
              "      <td>0208</td>\n",
              "      <td>02</td>\n",
              "      <td>261635356002005</td>\n",
              "      <td>Aviation Sub</td>\n",
              "      <td>7</td>\n",
              "      <td>48228</td>\n",
              "      <td>-83.171428</td>\n",
              "      <td>42.356303</td>\n",
              "      <td>1</td>\n",
              "    </tr>\n",
              "    <tr>\n",
              "      <th>1</th>\n",
              "      <td>3006375</td>\n",
              "      <td>1612260215</td>\n",
              "      <td>Lawndale St &amp; Senator St</td>\n",
              "      <td>ARSON</td>\n",
              "      <td>ARSON</td>\n",
              "      <td>2099</td>\n",
              "      <td>20000</td>\n",
              "      <td>ARSON</td>\n",
              "      <td>2016/12/26 08:30:00+00</td>\n",
              "      <td>03:30:00</td>\n",
              "      <td>1</td>\n",
              "      <td>3</td>\n",
              "      <td>2016</td>\n",
              "      <td>0408</td>\n",
              "      <td>04</td>\n",
              "      <td>261635242005001</td>\n",
              "      <td>Springwells</td>\n",
              "      <td>6</td>\n",
              "      <td>48209</td>\n",
              "      <td>-83.131659</td>\n",
              "      <td>42.307950</td>\n",
              "      <td>2</td>\n",
              "    </tr>\n",
              "    <tr>\n",
              "      <th>2</th>\n",
              "      <td>3012257</td>\n",
              "      <td>1701110189</td>\n",
              "      <td>Artesian St &amp; Constance St</td>\n",
              "      <td>ROBBERY</td>\n",
              "      <td>ROBBERY</td>\n",
              "      <td>1201</td>\n",
              "      <td>12000</td>\n",
              "      <td>ROBBERY</td>\n",
              "      <td>2017/01/11 09:30:00+00</td>\n",
              "      <td>04:30:00</td>\n",
              "      <td>3</td>\n",
              "      <td>4</td>\n",
              "      <td>2017</td>\n",
              "      <td>0610</td>\n",
              "      <td>06</td>\n",
              "      <td>261635460004005</td>\n",
              "      <td>Warrendale</td>\n",
              "      <td>7</td>\n",
              "      <td>48228</td>\n",
              "      <td>-83.226076</td>\n",
              "      <td>42.354101</td>\n",
              "      <td>3</td>\n",
              "    </tr>\n",
              "    <tr>\n",
              "      <th>3</th>\n",
              "      <td>3025623</td>\n",
              "      <td>1702150169</td>\n",
              "      <td>E Remington Ave &amp; Omira St</td>\n",
              "      <td>ARSON</td>\n",
              "      <td>ARSON</td>\n",
              "      <td>2099</td>\n",
              "      <td>20000</td>\n",
              "      <td>ARSON</td>\n",
              "      <td>2017/02/15 22:40:00+00</td>\n",
              "      <td>17:40:00</td>\n",
              "      <td>3</td>\n",
              "      <td>17</td>\n",
              "      <td>2017</td>\n",
              "      <td>1101</td>\n",
              "      <td>11</td>\n",
              "      <td>261635081004009</td>\n",
              "      <td>Nolan</td>\n",
              "      <td>3</td>\n",
              "      <td>48203</td>\n",
              "      <td>-83.096278</td>\n",
              "      <td>42.442265</td>\n",
              "      <td>4</td>\n",
              "    </tr>\n",
              "    <tr>\n",
              "      <th>4</th>\n",
              "      <td>3033332</td>\n",
              "      <td>1703020033</td>\n",
              "      <td>Bringard Dr &amp; Cordell St</td>\n",
              "      <td>ARSON</td>\n",
              "      <td>ARSON</td>\n",
              "      <td>2099</td>\n",
              "      <td>20000</td>\n",
              "      <td>ARSON</td>\n",
              "      <td>2017/03/02 12:20:00+00</td>\n",
              "      <td>07:20:00</td>\n",
              "      <td>4</td>\n",
              "      <td>7</td>\n",
              "      <td>2017</td>\n",
              "      <td>0903</td>\n",
              "      <td>09</td>\n",
              "      <td>261635001002002</td>\n",
              "      <td>Regent Park</td>\n",
              "      <td>3</td>\n",
              "      <td>48205</td>\n",
              "      <td>-82.951218</td>\n",
              "      <td>42.446557</td>\n",
              "      <td>5</td>\n",
              "    </tr>\n",
              "  </tbody>\n",
              "</table>\n",
              "</div>"
            ],
            "text/plain": [
              "   crime_id  report_number  ...   latitude oid\n",
              "0   3005325     1612230018  ...  42.356303   1\n",
              "1   3006375     1612260215  ...  42.307950   2\n",
              "2   3012257     1701110189  ...  42.354101   3\n",
              "3   3025623     1702150169  ...  42.442265   4\n",
              "4   3033332     1703020033  ...  42.446557   5\n",
              "\n",
              "[5 rows x 22 columns]"
            ]
          },
          "metadata": {
            "tags": []
          },
          "execution_count": 4
        }
      ]
    },
    {
      "cell_type": "code",
      "metadata": {
        "id": "aE3EeAwjJCUu",
        "colab": {
          "base_uri": "https://localhost:8080/"
        },
        "outputId": "d50dd425-7145-4652-98a2-97a003eb99b0"
      },
      "source": [
        "df1.isnull().values.any()"
      ],
      "execution_count": null,
      "outputs": [
        {
          "output_type": "execute_result",
          "data": {
            "text/plain": [
              "False"
            ]
          },
          "metadata": {
            "tags": []
          },
          "execution_count": 5
        }
      ]
    },
    {
      "cell_type": "code",
      "metadata": {
        "colab": {
          "base_uri": "https://localhost:8080/"
        },
        "id": "blJS5PVcTeLs",
        "outputId": "71618107-9415-41d2-d716-68c1ca48a52c"
      },
      "source": [
        "df1['is_duplicate'] = df1.duplicated()\n",
        "\n",
        "df1.is_duplicate.value_counts()"
      ],
      "execution_count": null,
      "outputs": [
        {
          "output_type": "execute_result",
          "data": {
            "text/plain": [
              "False    356000\n",
              "Name: is_duplicate, dtype: int64"
            ]
          },
          "metadata": {
            "tags": []
          },
          "execution_count": 6
        }
      ]
    },
    {
      "cell_type": "code",
      "metadata": {
        "id": "MXXkks0GfnEg"
      },
      "source": [
        "#santhoshini\n",
        "df1.drop_duplicates(inplace=True)"
      ],
      "execution_count": null,
      "outputs": []
    },
    {
      "cell_type": "code",
      "metadata": {
        "id": "MHLhWYm4DGRB",
        "colab": {
          "base_uri": "https://localhost:8080/"
        },
        "outputId": "25e786b7-438b-4284-8611-a5596be77fe0"
      },
      "source": [
        "print(df1['charge_description'].unique())\n",
        "print(df1['offense_description'].unique())\n"
      ],
      "execution_count": null,
      "outputs": [
        {
          "output_type": "stream",
          "text": [
            "['ROBBERY' 'ARSON' 'LARCENY - OTHER' 'FRAUD - IMPERSONATION'\n",
            " 'FAMILY - OTHER' 'LARCENY FROM GROUNDS' 'TRESPASS' 'RUNAWAY'\n",
            " 'MOTOR VEHICLE THEFT' 'FRAUD BY WIRE' 'BURGLARY - FORCED ENTRY'\n",
            " 'ACCIDENT, HIT & RUN' 'STOLEN PROPERTY' 'RETAIL FRAUD - THEFT'\n",
            " 'INTIMIDATION / STALKING' 'DAMAGE TO PROPERTY' 'EXTORTION'\n",
            " 'FRAUD - FALSE PRETENSE / SWINDLE / CONFIDENCE GAME'\n",
            " 'AGGRAVATED / FELONIOUS ASSAULT' 'LARCENY - THEFT FROM BUILDING'\n",
            " 'ASSAULT AND BATTERY/SIMPLE ASSAULT' 'WEAPONS OFFENSE - OTHER'\n",
            " 'FRAUD - CREDIT CARD/AUTOMATIC TELLER MACHINE'\n",
            " 'CSC 4TH DEGREE - FORCIBLE CONTACT' 'CSC 1ST DEGREE - PENIS / VAGINA'\n",
            " 'FAMILY - ABUSE / NEGLECT NONVIOLENT'\n",
            " 'VIOLATION OF CONTROLED SUBSTANCE ACT - (VCSA)'\n",
            " 'BURGLARY - ENTRY WITHOUT FORCE (INTENT TO COMMIT)' 'HEALTH AND SAFETY'\n",
            " 'KIDNAPPING / ABDUCTION'\n",
            " 'LARCENY - THEFT OF MOTOR VEHICLE PARTS / ACCESSORIES'\n",
            " 'BURGLARY - FORCED ENTRY - UNOCCUPIED BUILDING'\n",
            " 'MISCELLANEOUS CRIMINAL OFFENSE' 'WEAPONS OFFENSE - CONCEALED'\n",
            " 'MURDER / NON-NEGLIGENT MANSLAUGHTER (VOLUNTARY)'\n",
            " 'LARCENY - PERSONAL PROPERTY FROM MOTOR VEHICLE'\n",
            " 'CSC 1ST DEGREE - ORAL / ANAL' 'CSC 3RD DEGREE - PENIS / VAGINA'\n",
            " 'LARCENY - PURSE SNATCHING'\n",
            " 'MOTOR VEHICLE AS STOLEN PROPERTY (RECOVERED ONLY)'\n",
            " 'FRAUD - NON SUFFICENT FUNDS CHECKS' 'FORGERY / COUNTERFEITING'\n",
            " 'HARASSING COMMUNICATIONS' 'LARCENY - POCKETPICKING'\n",
            " 'SEXUAL PENETRATION NONFORCIBLE - BLOOD / AFFINITY' 'OBSTRUCTING JUSTICE'\n",
            " 'SEX OFFENSE - OTHER' 'CSC 2ND DEGREE - FORCIBLE CONTACT'\n",
            " 'LIQUOR VIOLATIONS - OTHER' 'NARCOTIC EQUIPMENT VIOLATIONS'\n",
            " 'CSC 3RD DEGREE - ORAL / ANAL' 'DISORDERLY CONDUCT - GENERAL'\n",
            " 'MOTOR VEHICLE FRAUD' 'PARENTAL KIDNAPPING'\n",
            " 'UNAUTHOIRZED USE OF A MOTOR VEHICLE (JOY RIDING)'\n",
            " 'NEGLIGENT HOMICIDE - VEHICLE / BOAT / SNOWMOBILE / ORV'\n",
            " 'ENTRY WITHOUT PERMISSION (NO INTENT)'\n",
            " 'SOLICITATION (ALL CRIMES EXCEPT PROSTITUTION)' 'IDENITY THEFT'\n",
            " 'CSC 3RD DEGREE - OBJECT' 'LARCENY OF GASOLINE - SELF SERVICE STATION'\n",
            " 'CSC 1ST DEGREE - OBJECT' 'COMMERCIALIZED SEX - PROSTITUTION'\n",
            " 'POSSESSION OF BURGLARY TOOLS' 'STALKING - AGGREVATED (FELONY)'\n",
            " 'WEAPONS - CARRYING A CONCEALED WEAPON (CCW)'\n",
            " 'THREATS / HARASSMENT BY USE OF COMPUTER' 'OBSTRUCTING POLICE'\n",
            " 'MARIJUANA -POSSESS' 'BURGLARY - FORCED ENTRY -  NON-RESIDENCE'\n",
            " 'BURGLARY - ENTRY WITHOUT FORCE - RESIDENCE'\n",
            " 'PERSONAL PROTECTION ORDER - VIOLATION' 'FRAUD - WELFARE'\n",
            " 'ALCOHOL - MINOR IN POSSESSION' 'RETAIL FRAUD - MISREPRESENTATION'\n",
            " 'DAMAGE TO PUBLIC PROPERTY' 'THREATS / HARASSMENT BY USE OF TELEPHONE'\n",
            " 'LARCENY - FROM A COIN OPERATED MACHINE' 'HOMICIDE - JUSTIFIABLE'\n",
            " 'BURGLARY - FORCED ENTRY -  RESIDENCE'\n",
            " 'CONTRIBUTING TO THE DELINQUENCY OF MINOR (EXCLUDING ALCHOL)'\n",
            " 'INVASION OF PRIVACY - OTHER' 'WEAPONS - FIREARM IN AUTOMOBILE (CCW)'\n",
            " 'PUBLIC PEACE - OTHER'\n",
            " 'COMMERCIALIZED SEX - ASSISTING / PROMOTING PROSTITUTION'\n",
            " 'DAMAGE TO PRIVATE PROPERTY' 'WEAPONS OFFENSE - EXPLOSSIVES'\n",
            " 'PROBATION VIOLATION' 'DISORDERLY CONDUCT - DISTRUBING THE PEACE'\n",
            " 'HEROIN - POSSESS' 'STALKING - MISDEMEANOR'\n",
            " 'IMPERSONATING OF A POLICE OFFICER' 'FAMILY - NONSUPPORT'\n",
            " 'DAMAGE TO PROPERTY                                          '\n",
            " 'AGGRAVATED / FELONIOUS ASSAULT                              '\n",
            " 'FORGERY / COUNTERFEITING                                    '\n",
            " 'LARCENY - THEFT OF MOTOR VEHICLE PARTS / ACCESSORIES        '\n",
            " 'INTIMIDATION / STALKING                                     '\n",
            " 'DISORDERLY CONDUCT - GENERAL                                '\n",
            " 'INDECENT EXPOSURE' 'LOST & FOUND PROPERTY'\n",
            " 'BURGLARY - ENTRY WITHOUT FORCE (INTENT TO COMMIT)           '\n",
            " 'GAMBLING - BETTING / WAGERING'\n",
            " 'LARCENY - OTHER                                             '\n",
            " 'LARCENY - PERSONAL PROPERTY FROM MOTOR VEHICLE              '\n",
            " 'ACCIDENT, HIT & RUN                                         '\n",
            " 'ASSAULT AND BATTERY/SIMPLE ASSAULT                          '\n",
            " 'SEXUAL PENETRATION NONFORCIBLE - OTHER'\n",
            " 'ROBBERY                                                     '\n",
            " 'OBSTRUCTING POLICE                                          '\n",
            " 'BURGLARY - FORCED ENTRY                                     '\n",
            " 'COUNTERFEITING'\n",
            " 'MOTOR VEHICLE THEFT                                         '\n",
            " 'RETAIL FRAUD - THEFT                                        '\n",
            " 'FRAUD - IMPERSONATION                                       '\n",
            " 'VIOLATION OF CONTROLED SUBSTANCE ACT - (VCSA)               '\n",
            " 'WEAPONS OFFENSE - CONCEALED                                 '\n",
            " 'TRESPASS                                                    '\n",
            " 'WEAPONS OFFENSE - OTHER                                     '\n",
            " 'FRAUD - CREDIT CARD/AUTOMATIC TELLER MACHINE                '\n",
            " 'RIOT - ENGAGING IN' 'NEGLIGENT HOMICIDE / MANSLAUGHTER (INVOLUNTARY)'\n",
            " 'KIDNAPPING / ABDUCTION                                      '\n",
            " 'COMMERCIALIZED SEX - PROSTITUTION                           '\n",
            " 'FRAUD, COMPUTER HACKING/INVASION' 'FRAUD - IDENTITY THEFT'\n",
            " 'ASSAULT LESS THAN MURDER' 'MURDER - ATTEMPT' 'DISTURBING THE PEACE'\n",
            " 'LIQUOR LICENSE - ESTABLISHMENT' 'ANIMAL - CRUELTY'\n",
            " 'COMPUTER USED IN THE COMMISION OF CRIME' 'PAROLE VIOLATION'\n",
            " 'LARCENY OF MAIL'\n",
            " 'FRAUD BY WIRE                                               '\n",
            " 'OBSTRUCTING JUSTICE                                         '\n",
            " 'CSC 1ST DEGREE - PENIS / VAGINA                             '\n",
            " 'ARSON                                                       '\n",
            " 'CSC 2ND DEGREE - FORCIBLE CONTACT                           '\n",
            " 'FRAUD - FALSE PRETENSE / SWINDLE / CONFIDENCE GAME          '\n",
            " 'MOTOR VEHICLE AS STOLEN PROPERTY (RECOVERED ONLY)           '\n",
            " 'LARCENY - THEFT FROM BUILDING                               '\n",
            " 'RUNAWAY - JUVENILE'\n",
            " 'STOLEN PROPERTY                                             '\n",
            " 'AGGRAVATED / FELONIOUS ASSAULT (DOMESTIC)'\n",
            " 'CSC 1ST DEGREE - ORAL / ANAL                                '\n",
            " 'CSC 3RD DEGREE - ORAL / ANAL                                '\n",
            " 'ARSON - RESIDENCE' 'ROBBERY - MOTOR VEHICLE (CARJACKING)'\n",
            " 'ROBBERY - UNARMED' 'POSSESSION OF A STOLEN VEHICLE' 'ARSON - ATTEMPT'\n",
            " 'ROBBERY - STRONG ARM' 'INTIMIDATION' 'MARIJUANA - DELIVER'\n",
            " 'HOMICIDE - JUSTIFIABLE                                      '\n",
            " 'POSSESSION OF STOLEN PROPERTY'\n",
            " 'LARCENY - POCKETPICKING                                     '\n",
            " 'CSC 4TH DEGREE - FORCIBLE CONTACT                           '\n",
            " 'RUNAWAY                                                     '\n",
            " 'RECEIVING STOLEN PROPERTY'\n",
            " 'FRAUD - NON SUFFICENT FUNDS CHECKS                          '\n",
            " 'SEX OFFENSE - OTHER                                         '\n",
            " 'CSC 3RD DEGREE - PENIS / VAGINA                             '\n",
            " 'NON-FATAL SHOOTING' 'HEROIN - SELL / MANUFACTURE'\n",
            " 'BURGLARY - ENTRY WITHOUT FORCE - NON-RESIDENCE' 'CHILD NEGLECT'\n",
            " 'WEAPONS - FIRING (CARELESS, RECKLESS, HEEDLESS USE)' 'COCAINE - POSSESS'\n",
            " 'RESISTING A POLICE OFFICER' 'TOBACCO - POSSESSION BY MINOR'\n",
            " 'FAMILY - ABUSE / NEGLECT NONVIOLENT                         '\n",
            " 'GAMBLING - EQUIPMENT VIOLATIONS'\n",
            " 'GAMBLING - OPERATING / PROMOTING / ASSISTING' 'CARJACKING']\n",
            "['ROBBERY' 'ARSON' 'LARCENY - OTHER' 'FRAUD - IMPERSONATION'\n",
            " 'FAMILY - OTHER' 'LARCENY FROM GROUNDS' 'TRESPASS' 'RUNAWAY'\n",
            " 'MOTOR VEHICLE THEFT' 'FRAUD BY WIRE' 'BURGLARY - FORCED ENTRY'\n",
            " 'ACCIDENT, HIT & RUN' 'STOLEN PROPERTY' 'RETAIL FRAUD - THEFT'\n",
            " 'INTIMIDATION / STALKING' 'DAMAGE TO PROPERTY' 'EXTORTION' ' '\n",
            " 'ASSAULT AND BATTERY/SIMPLE ASSAULT'\n",
            " 'FRAUD - FALSE PRETENSE / SWINDLE / CONFIDENCE GAME'\n",
            " 'AGGRAVATED / FELONIOUS ASSAULT' 'LARCENY - THEFT FROM BUILDING'\n",
            " 'WEAPONS OFFENSE - OTHER' 'FRAUD - CREDIT CARD/AUTOMATIC TELLER MACHINE'\n",
            " 'CSC 4TH DEGREE - FORCIBLE CONTACT' 'CSC 1ST DEGREE - PENIS / VAGINA'\n",
            " 'FAMILY - ABUSE / NEGLECT NONVIOLENT'\n",
            " 'VIOLATION OF CONTROLED SUBSTANCE ACT - (VCSA)'\n",
            " 'BURGLARY - ENTRY WITHOUT FORCE (INTENT TO COMMIT)' 'HEALTH AND SAFETY'\n",
            " 'KIDNAPPING / ABDUCTION'\n",
            " 'LARCENY - THEFT OF MOTOR VEHICLE PARTS / ACCESSORIES'\n",
            " 'BURGLARY - FORCED ENTRY - UNOCCUPIED BUILDING'\n",
            " 'MISCELLANEOUS CRIMINAL OFFENSE' 'WEAPONS OFFENSE - CONCEALED'\n",
            " 'MURDER / NON-NEGLIGENT MANSLAUGHTER (VOLUNTARY)'\n",
            " 'LARCENY - PERSONAL PROPERTY FROM MOTOR VEHICLE'\n",
            " 'CSC 1ST DEGREE - ORAL / ANAL' 'CSC 3RD DEGREE - PENIS / VAGINA'\n",
            " 'LARCENY - PURSE SNATCHING'\n",
            " 'MOTOR VEHICLE AS STOLEN PROPERTY (RECOVERED ONLY)'\n",
            " 'FRAUD - NON SUFFICENT FUNDS CHECKS' 'FORGERY / COUNTERFEITING'\n",
            " 'HARASSING COMMUNICATIONS' 'LARCENY - POCKETPICKING'\n",
            " 'SEXUAL PENETRATION NONFORCIBLE - BLOOD / AFFINITY' 'OBSTRUCTING JUSTICE'\n",
            " 'SEX OFFENSE - OTHER' 'CSC 2ND DEGREE - FORCIBLE CONTACT'\n",
            " 'LIQUOR VIOLATIONS - OTHER' 'NARCOTIC EQUIPMENT VIOLATIONS'\n",
            " 'CSC 3RD DEGREE - ORAL / ANAL' 'DISORDERLY CONDUCT - GENERAL'\n",
            " 'MOTOR VEHICLE FRAUD' 'PARENTAL KIDNAPPING'\n",
            " 'UNAUTHOIRZED USE OF A MOTOR VEHICLE (JOY RIDING)'\n",
            " 'NEGLIGENT HOMICIDE - VEHICLE / BOAT / SNOWMOBILE / ORV'\n",
            " 'ENTRY WITHOUT PERMISSION (NO INTENT)'\n",
            " 'SOLICITATION (ALL CRIMES EXCEPT PROSTITUTION)' 'IDENITY THEFT'\n",
            " 'CSC 3RD DEGREE - OBJECT' 'LARCENY OF GASOLINE - SELF SERVICE STATION'\n",
            " 'CSC 1ST DEGREE - OBJECT' 'COMMERCIALIZED SEX - PROSTITUTION'\n",
            " 'OPERATING UNDER THE INFLUENCE OF LIQUOR OR DRUGS'\n",
            " 'POSSESSION OF BURGLARY TOOLS' 'STALKING - AGGREVATED (FELONY)'\n",
            " 'THREATS / HARASSMENT BY USE OF COMPUTER' 'MARIJUANA -POSSESS'\n",
            " 'OBSTRUCTING POLICE' 'BURGLARY - FORCED ENTRY -  NON-RESIDENCE'\n",
            " 'BURGLARY - ENTRY WITHOUT FORCE - RESIDENCE'\n",
            " 'PERSONAL PROTECTION ORDER - VIOLATION' 'FRAUD - WELFARE'\n",
            " 'ALCOHOL - MINOR IN POSSESSION' 'RETAIL FRAUD - MISREPRESENTATION'\n",
            " 'DAMAGE TO PUBLIC PROPERTY' 'THREATS / HARASSMENT BY USE OF TELEPHONE'\n",
            " 'LARCENY - FROM A COIN OPERATED MACHINE' 'HOMICIDE - JUSTIFIABLE'\n",
            " 'BURGLARY - FORCED ENTRY -  RESIDENCE' 'INVASION OF PRIVACY - OTHER'\n",
            " 'WEAPONS - CARRYING A CONCEALED WEAPON (CCW)'\n",
            " 'WEAPONS - FIREARM IN AUTOMOBILE (CCW)' 'PUBLIC PEACE - OTHER'\n",
            " 'COMMERCIALIZED SEX - ASSISTING / PROMOTING PROSTITUTION'\n",
            " 'DAMAGE TO PRIVATE PROPERTY' 'WEAPONS OFFENSE - EXPLOSSIVES'\n",
            " 'PROBATION VIOLATION' 'ESCAPE / FLIGHT' 'EMBEZZLEMENT' 'HEROIN - POSSESS'\n",
            " 'IMPERSONATING OF A POLICE OFFICER' 'PEEPING TOM' 'INDECENT EXPOSURE'\n",
            " 'LOST & FOUND PROPERTY' 'GAMBLING - BETTING / WAGERING'\n",
            " 'SEXUAL PENETRATION NONFORCIBLE - OTHER' 'COUNTERFEITING'\n",
            " 'RIOT - ENGAGING IN' 'NEGLIGENT HOMICIDE / MANSLAUGHTER (INVOLUNTARY)'\n",
            " 'FRAUD, COMPUTER HACKING/INVASION' 'FRAUD - IDENTITY THEFT'\n",
            " 'ASSAULT LESS THAN MURDER' 'DISTURBING THE PEACE'\n",
            " 'LIQUOR LICENSE - ESTABLISHMENT'\n",
            " 'COMPUTER USED IN THE COMMISION OF CRIME' 'PAROLE VIOLATION'\n",
            " 'LARCENY OF MAIL' 'ANIMAL - CRUELTY' 'RUNAWAY - JUVENILE'\n",
            " 'AGGRAVATED / FELONIOUS ASSAULT (DOMESTIC)' 'FAMILY - NONSUPPORT'\n",
            " 'ARSON - RESIDENCE' 'ROBBERY - MOTOR VEHICLE (CARJACKING)'\n",
            " 'ROBBERY - UNARMED' 'POSSESSION OF A STOLEN VEHICLE' 'ARSON - ATTEMPT'\n",
            " 'ORDINANCE VIOLATION/INVESTIGATION' 'ROBBERY - STRONG ARM' 'INTIMIDATION'\n",
            " 'MARIJUANA - DELIVER' 'OBSCENITY' 'REPORT PULLED IN ERROR'\n",
            " 'POSSESSION OF STOLEN PROPERTY' 'RECEIVING STOLEN PROPERTY' 'BRIBERY'\n",
            " 'DRUNKENNESS -(ALL CRIMINAL - EXCEPT OWI)' 'NON-FATAL SHOOTING'\n",
            " 'HEROIN - SELL / MANUFACTURE'\n",
            " 'BURGLARY - ENTRY WITHOUT FORCE - NON-RESIDENCE' 'CHILD NEGLECT'\n",
            " 'CITIZEN ASSIST' 'COCAINE - POSSESS' 'TOBACCO - POSSESSION BY MINOR'\n",
            " 'GAMBLING - EQUIPMENT VIOLATIONS'\n",
            " 'GAMBLING - OPERATING / PROMOTING / ASSISTING'\n",
            " 'ACCIDENTAL PROPERTY DAMAGE' 'CARJACKING']\n"
          ],
          "name": "stdout"
        }
      ]
    },
    {
      "cell_type": "code",
      "metadata": {
        "id": "3yx4VdwUO7mP"
      },
      "source": [
        "df1.drop(['oid'] , axis=1 , inplace=True)"
      ],
      "execution_count": null,
      "outputs": []
    },
    {
      "cell_type": "code",
      "metadata": {
        "id": "57JwMXciaDVq"
      },
      "source": [
        "#santhoshini\n",
        "df1.rename(columns={\"report_number\":\"report_num\"},inplace=True)"
      ],
      "execution_count": null,
      "outputs": []
    },
    {
      "cell_type": "code",
      "metadata": {
        "id": "UqT8vIDSJOxG",
        "colab": {
          "base_uri": "https://localhost:8080/"
        },
        "outputId": "7a5b0ffe-47b9-4c90-9116-38398a4308cf"
      },
      "source": [
        "print(df1['offense_category'].unique())\n"
      ],
      "execution_count": null,
      "outputs": [
        {
          "output_type": "stream",
          "text": [
            "['ROBBERY' 'ARSON' 'LARCENY' 'FRAUD' 'FAMILY OFFENSE' 'OTHER' 'RUNAWAY'\n",
            " 'STOLEN VEHICLE' 'BURGLARY' 'OUIL' 'STOLEN PROPERTY' 'ASSAULT'\n",
            " 'DAMAGE TO PROPERTY' 'EXTORTION' 'AGGRAVATED ASSAULT' 'WEAPONS OFFENSES'\n",
            " 'SEX OFFENSES' 'SEXUAL ASSAULT' 'DANGEROUS DRUGS' 'KIDNAPPING'\n",
            " 'MISCELLANEOUS' 'HOMICIDE' 'FORGERY' 'DISORDERLY CONDUCT'\n",
            " 'OBSTRUCTING JUDICIARY' 'LIQUOR' 'SOLICITATION' 'OBSTRUCTING THE POLICE'\n",
            " 'JUSTIFIABLE HOMICIDE' 'GAMBLING']\n"
          ],
          "name": "stdout"
        }
      ]
    },
    {
      "cell_type": "code",
      "metadata": {
        "id": "yYnDpzG_WzM5",
        "colab": {
          "base_uri": "https://localhost:8080/"
        },
        "outputId": "21ba194f-fd5a-47cd-b061-b75bbb6273bf"
      },
      "source": [
        "df1.set_index('crime_id', drop=True, inplace=True)\n",
        "print(df1)"
      ],
      "execution_count": null,
      "outputs": [
        {
          "output_type": "stream",
          "text": [
            "          report_num                        address  ...   latitude is_duplicate\n",
            "crime_id                                             ...                        \n",
            "3005325   1612230018     Mackenzie St & Sorrento St  ...  42.356303        False\n",
            "3006375   1612260215       Lawndale St & Senator St  ...  42.307950        False\n",
            "3012257   1701110189     Artesian St & Constance St  ...  42.354101        False\n",
            "3025623   1702150169     E Remington Ave & Omira St  ...  42.442265        False\n",
            "3033332   1703020033       Bringard Dr & Cordell St  ...  42.446557        False\n",
            "...              ...                            ...  ...        ...          ...\n",
            "3627470   2105090104        Rosewood St & Bishop St  ...  42.395675        False\n",
            "3627474   2105090124  Saint Aubin St & Pembridge Pl  ...  42.340840        False\n",
            "3627480   2105090130    Bentler St & W McNichols Rd  ...  42.414684        False\n",
            "3627484   2105090143      W Alexandrine St & 3rd St  ...  42.347928        False\n",
            "3627521   2105090175          Zender Pl & Ellery St  ...  42.361816        False\n",
            "\n",
            "[356000 rows x 21 columns]\n"
          ],
          "name": "stdout"
        }
      ]
    },
    {
      "cell_type": "code",
      "metadata": {
        "id": "LM7B1bLJDExN",
        "colab": {
          "base_uri": "https://localhost:8080/"
        },
        "outputId": "f17deabc-6202-467d-a3b0-8bdae85a4dc8"
      },
      "source": [
        "#santhoshini\n",
        "print(df1['address'].unique())\n",
        "print(df1['address'].value_counts())"
      ],
      "execution_count": null,
      "outputs": [
        {
          "output_type": "stream",
          "text": [
            "['Mackenzie St & Sorrento St' 'Lawndale St & Senator St'\n",
            " 'Artesian St & Constance St' ... 'Leidich St & E I 94 Service Drive'\n",
            " 'Fitzpatrick St & N M 39 Service Drive' 'W Alexandrine St & Lincoln St']\n",
            "S M 10 Service Drive & Grand River Ave    700\n",
            "John R St & W Brentwood St                537\n",
            "Bagley St & 3rd St                        520\n",
            "Saint Antoine St & E Lafayette St         421\n",
            "Mack Ave & Beaubien St                    390\n",
            "                                         ... \n",
            "Cambridge Ave & W Outer Dr                  1\n",
            "17th St & W Fort St                         1\n",
            "Burlingame St & S M 10 Service Drive        1\n",
            "Roby St & E Ferry St                        1\n",
            "W Jefferson Ave & Voss St                   1\n",
            "Name: address, Length: 15852, dtype: int64\n"
          ],
          "name": "stdout"
        }
      ]
    },
    {
      "cell_type": "code",
      "metadata": {
        "colab": {
          "base_uri": "https://localhost:8080/",
          "height": 471
        },
        "id": "gis78ElPifuO",
        "outputId": "91d71d45-9e0d-45c9-b64b-bccb36039aea"
      },
      "source": [
        "#santhoshini\n",
        "df1['address'].value_counts().nlargest(10).plot(kind='bar')"
      ],
      "execution_count": null,
      "outputs": [
        {
          "output_type": "execute_result",
          "data": {
            "text/plain": [
              "<matplotlib.axes._subplots.AxesSubplot at 0x7f9821fae950>"
            ]
          },
          "metadata": {
            "tags": []
          },
          "execution_count": 13
        },
        {
          "output_type": "display_data",
          "data": {
            "image/png": "[encoded data removed]",
            "text/plain": [
              "<Figure size 432x288 with 1 Axes>"
            ]
          },
          "metadata": {
            "tags": [],
            "needs_background": "light"
          }
        }
      ]
    },
    {
      "cell_type": "code",
      "metadata": {
        "colab": {
          "base_uri": "https://localhost:8080/",
          "height": 367
        },
        "id": "KmaOijgzowdD",
        "outputId": "f05f747f-920a-404d-bb23-cc4374d24ff5"
      },
      "source": [
        "#santhoshini\n",
        "df1['neighborhood'].value_counts().nsmallest(10).plot(kind='bar')"
      ],
      "execution_count": null,
      "outputs": [
        {
          "output_type": "execute_result",
          "data": {
            "text/plain": [
              "<matplotlib.axes._subplots.AxesSubplot at 0x7f9817f5fad0>"
            ]
          },
          "metadata": {
            "tags": []
          },
          "execution_count": 14
        },
        {
          "output_type": "display_data",
          "data": {
            "image/png": "[encoded data removed]",
            "text/plain": [
              "<Figure size 432x288 with 1 Axes>"
            ]
          },
          "metadata": {
            "tags": [],
            "needs_background": "light"
          }
        }
      ]
    },
    {
      "cell_type": "code",
      "metadata": {
        "colab": {
          "base_uri": "https://localhost:8080/",
          "height": 375
        },
        "id": "OSwey_ewpLxk",
        "outputId": "a73e08be-207f-4cca-a815-f930604cdbe0"
      },
      "source": [
        "#santhoshini\n",
        "df1['neighborhood'].value_counts().nlargest(10).plot(kind='bar')"
      ],
      "execution_count": null,
      "outputs": [
        {
          "output_type": "execute_result",
          "data": {
            "text/plain": [
              "<matplotlib.axes._subplots.AxesSubplot at 0x7f9817ef6150>"
            ]
          },
          "metadata": {
            "tags": []
          },
          "execution_count": 15
        },
        {
          "output_type": "display_data",
          "data": {
            "image/png": "[encoded data removed]",
            "text/plain": [
              "<Figure size 432x288 with 1 Axes>"
            ]
          },
          "metadata": {
            "tags": [],
            "needs_background": "light"
          }
        }
      ]
    },
    {
      "cell_type": "code",
      "metadata": {
        "id": "n1AIqOHKJkEV",
        "colab": {
          "base_uri": "https://localhost:8080/"
        },
        "outputId": "e449e398-1b46-483f-addf-0f59881c1331"
      },
      "source": [
        "print(df1['offense_category'].value_counts())"
      ],
      "execution_count": null,
      "outputs": [
        {
          "output_type": "stream",
          "text": [
            "ASSAULT                   64532\n",
            "LARCENY                   54033\n",
            "DAMAGE TO PROPERTY        44450\n",
            "AGGRAVATED ASSAULT        36975\n",
            "BURGLARY                  29943\n",
            "FRAUD                     29037\n",
            "STOLEN VEHICLE            28667\n",
            "WEAPONS OFFENSES          11354\n",
            "ROBBERY                    9544\n",
            "DANGEROUS DRUGS            8279\n",
            "SEX OFFENSES               5550\n",
            "OBSTRUCTING JUDICIARY      5203\n",
            "STOLEN PROPERTY            4289\n",
            "ARSON                      3434\n",
            "SEXUAL ASSAULT             3360\n",
            "OUIL                       2784\n",
            "FAMILY OFFENSE             2336\n",
            "OBSTRUCTING THE POLICE     2322\n",
            "MISCELLANEOUS              2094\n",
            "RUNAWAY                    1571\n",
            "DISORDERLY CONDUCT         1317\n",
            "HOMICIDE                   1227\n",
            "FORGERY                    1090\n",
            "OTHER                      1041\n",
            "KIDNAPPING                  854\n",
            "LIQUOR                      414\n",
            "EXTORTION                   192\n",
            "JUSTIFIABLE HOMICIDE         72\n",
            "SOLICITATION                 29\n",
            "GAMBLING                      7\n",
            "Name: offense_category, dtype: int64\n"
          ],
          "name": "stdout"
        }
      ]
    },
    {
      "cell_type": "code",
      "metadata": {
        "id": "J-Mb0LFQIvSP",
        "colab": {
          "base_uri": "https://localhost:8080/",
          "height": 387
        },
        "outputId": "ee2c433c-145a-4bb5-fb69-9b5ca913ee68"
      },
      "source": [
        "df1['offense_category'].value_counts().nlargest(10).plot(kind='bar')"
      ],
      "execution_count": null,
      "outputs": [
        {
          "output_type": "execute_result",
          "data": {
            "text/plain": [
              "<matplotlib.axes._subplots.AxesSubplot at 0x7f9817ee3bd0>"
            ]
          },
          "metadata": {
            "tags": []
          },
          "execution_count": 17
        },
        {
          "output_type": "display_data",
          "data": {
            "image/png": "[encoded data removed]",
            "text/plain": [
              "<Figure size 432x288 with 1 Axes>"
            ]
          },
          "metadata": {
            "tags": [],
            "needs_background": "light"
          }
        }
      ]
    },
    {
      "cell_type": "code",
      "metadata": {
        "id": "larC_JF5I2uj",
        "colab": {
          "base_uri": "https://localhost:8080/"
        },
        "outputId": "2a86e8fd-0c10-48e5-fc38-cd492ffc3a56"
      },
      "source": [
        "groups = df1.groupby(['offense_category', 'neighborhood'])\n",
        "print(groups.size())"
      ],
      "execution_count": null,
      "outputs": [
        {
          "output_type": "stream",
          "text": [
            "offense_category    neighborhood    \n",
            "AGGRAVATED ASSAULT  Airport Sub         427\n",
            "                    Arden Park            4\n",
            "                    Aviation Sub         99\n",
            "                    Bagley              402\n",
            "                    Barton-McFarland    709\n",
            "                                       ... \n",
            "WEAPONS OFFENSES    Westwood Park        38\n",
            "                    Wildemere Park       13\n",
            "                    Winship             121\n",
            "                    Woodbridge           27\n",
            "                    Yorkshire Woods     106\n",
            "Length: 5107, dtype: int64\n"
          ],
          "name": "stdout"
        }
      ]
    },
    {
      "cell_type": "code",
      "metadata": {
        "colab": {
          "base_uri": "https://localhost:8080/",
          "height": 387
        },
        "id": "4rljt-VnWQvR",
        "outputId": "802b9c20-1025-4d43-8b45-98cef39f1322"
      },
      "source": [
        "df1['offense_category'].value_counts().nlargest(10).plot(kind='bar')\n"
      ],
      "execution_count": null,
      "outputs": [
        {
          "output_type": "execute_result",
          "data": {
            "text/plain": [
              "<matplotlib.axes._subplots.AxesSubplot at 0x7f9817d8fe50>"
            ]
          },
          "metadata": {
            "tags": []
          },
          "execution_count": 19
        },
        {
          "output_type": "display_data",
          "data": {
            "image/png": "[encoded data removed]",
            "text/plain": [
              "<Figure size 432x288 with 1 Axes>"
            ]
          },
          "metadata": {
            "tags": [],
            "needs_background": "light"
          }
        }
      ]
    },
    {
      "cell_type": "markdown",
      "metadata": {
        "id": "MHdgZPeqxiqN"
      },
      "source": [
        "# Border Crossing\n",
        "\n",
        "https://data.bts.gov/Research-and-Statistics/Border-Crossing-Entry-Data/keg4-3bc2/data"
      ]
    },
    {
      "cell_type": "code",
      "metadata": {
        "colab": {
          "base_uri": "https://localhost:8080/"
        },
        "id": "4hVXzp10xk2y",
        "outputId": "2bf7e714-ee6b-4885-efd0-16a5bc4daabf"
      },
      "source": [
        "df2 = pd.read_csv('https://storage.googleapis.com/files.mobibootcamp.com/2021-data-sets/Border_Crossing_Entry_Data.csv', parse_dates=[4])\n",
        "df2.info()"
      ],
      "execution_count": null,
      "outputs": [
        {
          "output_type": "stream",
          "text": [
            "<class 'pandas.core.frame.DataFrame'>\n",
            "RangeIndex: 364510 entries, 0 to 364509\n",
            "Data columns (total 7 columns):\n",
            " #   Column     Non-Null Count   Dtype         \n",
            "---  ------     --------------   -----         \n",
            " 0   Port Name  364510 non-null  object        \n",
            " 1   State      364510 non-null  object        \n",
            " 2   Port Code  364510 non-null  int64         \n",
            " 3   Border     364510 non-null  object        \n",
            " 4   Date       364510 non-null  datetime64[ns]\n",
            " 5   Measure    364510 non-null  object        \n",
            " 6   Value      364510 non-null  int64         \n",
            "dtypes: datetime64[ns](1), int64(2), object(4)\n",
            "memory usage: 19.5+ MB\n"
          ],
          "name": "stdout"
        }
      ]
    },
    {
      "cell_type": "code",
      "metadata": {
        "colab": {
          "base_uri": "https://localhost:8080/"
        },
        "id": "TfYI-V3plRJ6",
        "outputId": "6bbabde8-7a19-469e-c961-9b593cd0ecba"
      },
      "source": [
        "#Angelia\n",
        "df2['Measure'].unique()"
      ],
      "execution_count": null,
      "outputs": [
        {
          "output_type": "execute_result",
          "data": {
            "text/plain": [
              "array(['Personal Vehicle Passengers', 'Personal Vehicles',\n",
              "       'Truck Containers Empty', 'Truck Containers Loaded', 'Trucks',\n",
              "       'Pedestrians', 'Rail Containers Empty', 'Rail Containers Loaded',\n",
              "       'Train Passengers', 'Trains', 'Buses', 'Bus Passengers'],\n",
              "      dtype=object)"
            ]
          },
          "metadata": {
            "tags": []
          },
          "execution_count": 7
        }
      ]
    },
    {
      "cell_type": "code",
      "metadata": {
        "colab": {
          "base_uri": "https://localhost:8080/"
        },
        "id": "CyxXH-eXibLZ",
        "outputId": "82818f58-c260-41a1-b051-ee61562e1488"
      },
      "source": [
        "# Toni Hall\n",
        "print(df2.columns)\n",
        "df2.columns = df2.columns.str.lower()\n",
        "print(df2.columns)"
      ],
      "execution_count": null,
      "outputs": [
        {
          "output_type": "stream",
          "text": [
            "Index(['Port Name', 'State', 'Port Code', 'Border', 'Date', 'Measure',\n",
            "       'Value'],\n",
            "      dtype='object')\n",
            "Index(['port name', 'state', 'port code', 'border', 'date', 'measure',\n",
            "       'value'],\n",
            "      dtype='object')\n"
          ],
          "name": "stdout"
        }
      ]
    },
    {
      "cell_type": "code",
      "metadata": {
        "colab": {
          "base_uri": "https://localhost:8080/",
          "height": 142
        },
        "id": "LvjFoSN-jqQO",
        "outputId": "eae20d2f-5391-49da-d8b7-ec948606dc89"
      },
      "source": [
        "#Toni Hall\n",
        "df2.head(-3)\n"
      ],
      "execution_count": null,
      "outputs": [
        {
          "output_type": "execute_result",
          "data": {
            "text/html": [
              "<div>\n",
              "<style scoped>\n",
              "    .dataframe tbody tr th:only-of-type {\n",
              "        vertical-align: middle;\n",
              "    }\n",
              "\n",
              "    .dataframe tbody tr th {\n",
              "        vertical-align: top;\n",
              "    }\n",
              "\n",
              "    .dataframe thead th {\n",
              "        text-align: right;\n",
              "    }\n",
              "</style>\n",
              "<table border=\"1\" class=\"dataframe\">\n",
              "  <thead>\n",
              "    <tr style=\"text-align: right;\">\n",
              "      <th></th>\n",
              "      <th>port name</th>\n",
              "      <th>state</th>\n",
              "      <th>port code</th>\n",
              "      <th>border</th>\n",
              "      <th>date</th>\n",
              "      <th>measure</th>\n",
              "      <th>value</th>\n",
              "    </tr>\n",
              "  </thead>\n",
              "  <tbody>\n",
              "    <tr>\n",
              "      <th>0</th>\n",
              "      <td>Alcan</td>\n",
              "      <td>Alaska</td>\n",
              "      <td>3104</td>\n",
              "      <td>US-Canada Border</td>\n",
              "      <td>2021-01-01</td>\n",
              "      <td>Personal Vehicle Passengers</td>\n",
              "      <td>690</td>\n",
              "    </tr>\n",
              "    <tr>\n",
              "      <th>1</th>\n",
              "      <td>Alcan</td>\n",
              "      <td>Alaska</td>\n",
              "      <td>3104</td>\n",
              "      <td>US-Canada Border</td>\n",
              "      <td>2021-01-01</td>\n",
              "      <td>Personal Vehicles</td>\n",
              "      <td>444</td>\n",
              "    </tr>\n",
              "    <tr>\n",
              "      <th>2</th>\n",
              "      <td>Alcan</td>\n",
              "      <td>Alaska</td>\n",
              "      <td>3104</td>\n",
              "      <td>US-Canada Border</td>\n",
              "      <td>2021-01-01</td>\n",
              "      <td>Truck Containers Empty</td>\n",
              "      <td>350</td>\n",
              "    </tr>\n",
              "  </tbody>\n",
              "</table>\n",
              "</div>"
            ],
            "text/plain": [
              "  port name   state  port code  ...       date                      measure value\n",
              "0     Alcan  Alaska       3104  ... 2021-01-01  Personal Vehicle Passengers   690\n",
              "1     Alcan  Alaska       3104  ... 2021-01-01            Personal Vehicles   444\n",
              "2     Alcan  Alaska       3104  ... 2021-01-01       Truck Containers Empty   350\n",
              "\n",
              "[3 rows x 7 columns]"
            ]
          },
          "metadata": {
            "tags": []
          },
          "execution_count": 6
        }
      ]
    },
    {
      "cell_type": "code",
      "metadata": {
        "colab": {
          "base_uri": "https://localhost:8080/",
          "height": 203
        },
        "id": "1calOYY5jizI",
        "outputId": "efbf2ffb-a8bd-41af-a364-5d356a449dd5"
      },
      "source": [
        "#santhoshini\n",
        "df2.columns = df2.columns.str.replace(' ', '_')\n",
        "df2.head()"
      ],
      "execution_count": null,
      "outputs": [
        {
          "output_type": "execute_result",
          "data": {
            "text/html": [
              "<div>\n",
              "<style scoped>\n",
              "    .dataframe tbody tr th:only-of-type {\n",
              "        vertical-align: middle;\n",
              "    }\n",
              "\n",
              "    .dataframe tbody tr th {\n",
              "        vertical-align: top;\n",
              "    }\n",
              "\n",
              "    .dataframe thead th {\n",
              "        text-align: right;\n",
              "    }\n",
              "</style>\n",
              "<table border=\"1\" class=\"dataframe\">\n",
              "  <thead>\n",
              "    <tr style=\"text-align: right;\">\n",
              "      <th></th>\n",
              "      <th>Port_Name</th>\n",
              "      <th>State</th>\n",
              "      <th>Port_Code</th>\n",
              "      <th>Border</th>\n",
              "      <th>Date</th>\n",
              "      <th>Measure</th>\n",
              "      <th>Value</th>\n",
              "    </tr>\n",
              "  </thead>\n",
              "  <tbody>\n",
              "    <tr>\n",
              "      <th>0</th>\n",
              "      <td>Alcan</td>\n",
              "      <td>Alaska</td>\n",
              "      <td>3104</td>\n",
              "      <td>US-Canada Border</td>\n",
              "      <td>2021-01-01</td>\n",
              "      <td>Personal Vehicle Passengers</td>\n",
              "      <td>690</td>\n",
              "    </tr>\n",
              "    <tr>\n",
              "      <th>1</th>\n",
              "      <td>Alcan</td>\n",
              "      <td>Alaska</td>\n",
              "      <td>3104</td>\n",
              "      <td>US-Canada Border</td>\n",
              "      <td>2021-01-01</td>\n",
              "      <td>Personal Vehicles</td>\n",
              "      <td>444</td>\n",
              "    </tr>\n",
              "    <tr>\n",
              "      <th>2</th>\n",
              "      <td>Alcan</td>\n",
              "      <td>Alaska</td>\n",
              "      <td>3104</td>\n",
              "      <td>US-Canada Border</td>\n",
              "      <td>2021-01-01</td>\n",
              "      <td>Truck Containers Empty</td>\n",
              "      <td>350</td>\n",
              "    </tr>\n",
              "    <tr>\n",
              "      <th>3</th>\n",
              "      <td>Alcan</td>\n",
              "      <td>Alaska</td>\n",
              "      <td>3104</td>\n",
              "      <td>US-Canada Border</td>\n",
              "      <td>2021-01-01</td>\n",
              "      <td>Truck Containers Loaded</td>\n",
              "      <td>51</td>\n",
              "    </tr>\n",
              "    <tr>\n",
              "      <th>4</th>\n",
              "      <td>Alcan</td>\n",
              "      <td>Alaska</td>\n",
              "      <td>3104</td>\n",
              "      <td>US-Canada Border</td>\n",
              "      <td>2021-01-01</td>\n",
              "      <td>Trucks</td>\n",
              "      <td>416</td>\n",
              "    </tr>\n",
              "  </tbody>\n",
              "</table>\n",
              "</div>"
            ],
            "text/plain": [
              "  Port_Name   State  Port_Code  ...       Date                      Measure Value\n",
              "0     Alcan  Alaska       3104  ... 2021-01-01  Personal Vehicle Passengers   690\n",
              "1     Alcan  Alaska       3104  ... 2021-01-01            Personal Vehicles   444\n",
              "2     Alcan  Alaska       3104  ... 2021-01-01       Truck Containers Empty   350\n",
              "3     Alcan  Alaska       3104  ... 2021-01-01      Truck Containers Loaded    51\n",
              "4     Alcan  Alaska       3104  ... 2021-01-01                       Trucks   416\n",
              "\n",
              "[5 rows x 7 columns]"
            ]
          },
          "metadata": {
            "tags": []
          },
          "execution_count": 21
        }
      ]
    },
    {
      "cell_type": "code",
      "metadata": {
        "id": "Sgu4jCoXjjqX"
      },
      "source": [
        "#santhoshini\n",
        "df2.columns = df2.columns.str.lower()"
      ],
      "execution_count": null,
      "outputs": []
    },
    {
      "cell_type": "code",
      "metadata": {
        "colab": {
          "base_uri": "https://localhost:8080/",
          "height": 415
        },
        "id": "62FW0M0sjozo",
        "outputId": "ed847f8d-0669-41b3-b495-0708e73be087"
      },
      "source": [
        "#santhoshini\n",
        "df2['measure'].value_counts().plot(kind='bar')"
      ],
      "execution_count": null,
      "outputs": [
        {
          "output_type": "execute_result",
          "data": {
            "text/plain": [
              "<matplotlib.axes._subplots.AxesSubplot at 0x7f9817dc6690>"
            ]
          },
          "metadata": {
            "tags": []
          },
          "execution_count": 23
        },
        {
          "output_type": "display_data",
          "data": {
            "image/png": "[encoded data removed]",
            "text/plain": [
              "<Figure size 432x288 with 1 Axes>"
            ]
          },
          "metadata": {
            "tags": [],
            "needs_background": "light"
          }
        }
      ]
    },
    {
      "cell_type": "code",
      "metadata": {
        "colab": {
          "base_uri": "https://localhost:8080/"
        },
        "id": "9gBJIvuXkoBj",
        "outputId": "edcb6d70-ef7e-41bc-9fb0-110796dc279d"
      },
      "source": [
        "#santhoshini\n",
        "print(df2['port_name'].unique())"
      ],
      "execution_count": null,
      "outputs": [
        {
          "output_type": "stream",
          "text": [
            "['Alcan' 'Alexandria Bay' 'Ambrose' 'Andrade' 'Antler' 'Baudette'\n",
            " 'Beecher Falls' 'Blaine' 'Boquillas' 'Boundary' 'Bridgewater'\n",
            " 'Brownsville' 'Buffalo Niagara Falls' 'Calais' 'Calexico' 'Calexico East'\n",
            " 'Carbury' 'Champlain Rouses Point' 'Columbus' 'Dalton Cache' 'Danville'\n",
            " 'Del Bonita' 'Del Rio' 'Derby Line' 'Detroit' 'Douglas' 'Dunseith'\n",
            " 'Eagle Pass' 'Eastport' 'El Paso' 'Ferry' 'Fort Fairfield' 'Fort Kent'\n",
            " 'Fortuna' 'Frontier' 'Grand Portage' 'Hannah' 'Hansboro' 'Hidalgo'\n",
            " 'Highgate Springs' 'Houlton' 'International Falls' 'Jackman' 'Lancaster'\n",
            " 'Laredo' 'Laurier' 'Limestone' 'Lukeville' 'Lynden' 'Madawaska' 'Maida'\n",
            " 'Massena' 'Metaline Falls' 'Morgan' 'Naco' 'Neche' 'Nighthawk' 'Nogales'\n",
            " 'Noonan' 'Northgate' 'Norton' 'Ogdensburg' 'Opheim' 'Oroville'\n",
            " 'Otay Mesa' 'Pembina' 'Piegan' 'Pinecreek' 'Point Roberts' 'Portal'\n",
            " 'Porthill' 'Port Huron' 'Presidio' 'Progreso' 'Raymond' 'Richford'\n",
            " 'Rio Grande City' 'Roma' 'Roosville' 'Roseau' 'San Luis' 'Santa Teresa'\n",
            " 'San Ysidro' 'Sarles' 'Sasabe' 'Sault Sainte Marie' 'Scobey' 'Sherwood'\n",
            " 'Skagway' 'St John' 'Sumas' 'Sweetgrass' 'Tecate' 'Tornillo'\n",
            " 'Trout River' 'Turner' 'Van Buren' 'Vanceboro' 'Walhalla' 'Warroad'\n",
            " 'Westhope' 'Whitlash' 'Wildhorse' 'Willow Creek' 'Ysleta'\n",
            " 'Cross Border Xpress' 'Algonac' 'Port Angeles' 'Anacortes'\n",
            " 'Friday Harbor' 'Ketchikan' 'Cape Vincent' 'Toledo' 'Portland'\n",
            " 'Whitetail' 'Bar Harbor' 'Noyes']\n"
          ],
          "name": "stdout"
        }
      ]
    },
    {
      "cell_type": "code",
      "metadata": {
        "colab": {
          "base_uri": "https://localhost:8080/"
        },
        "id": "gTooOVAhk_H0",
        "outputId": "1d84faf4-a99d-4339-930c-63237176c5e7"
      },
      "source": [
        "#santhoshini\n",
        "print(df2['port_name'].value_counts())"
      ],
      "execution_count": null,
      "outputs": [
        {
          "output_type": "stream",
          "text": [
            "Eastport                 5955\n",
            "Nogales                  3636\n",
            "El Paso                  3631\n",
            "Buffalo Niagara Falls    3618\n",
            "Calexico East            3614\n",
            "                         ... \n",
            "Boquillas                 269\n",
            "Ysleta                     73\n",
            "Cross Border Xpress        39\n",
            "Algonac                    35\n",
            "Toledo                     10\n",
            "Name: port_name, Length: 117, dtype: int64\n"
          ],
          "name": "stdout"
        }
      ]
    },
    {
      "cell_type": "code",
      "metadata": {
        "colab": {
          "base_uri": "https://localhost:8080/",
          "height": 373
        },
        "id": "6jUtjOWYkNqo",
        "outputId": "f24dba06-924d-48ac-93ee-85d57a42e3bd"
      },
      "source": [
        "#santhoshini\n",
        "df2['port_name'].value_counts().nsmallest(10).plot(kind='bar')"
      ],
      "execution_count": null,
      "outputs": [
        {
          "output_type": "execute_result",
          "data": {
            "text/plain": [
              "<matplotlib.axes._subplots.AxesSubplot at 0x7f9817c64490>"
            ]
          },
          "metadata": {
            "tags": []
          },
          "execution_count": 26
        },
        {
          "output_type": "display_data",
          "data": {
            "image/png": "[encoded data removed]",
            "text/plain": [
              "<Figure size 432x288 with 1 Axes>"
            ]
          },
          "metadata": {
            "tags": [],
            "needs_background": "light"
          }
        }
      ]
    },
    {
      "cell_type": "code",
      "metadata": {
        "colab": {
          "base_uri": "https://localhost:8080/"
        },
        "id": "AqZmxMm9d9cM",
        "outputId": "f8bd6527-2617-4ba5-fe30-1b88ff9be4e9"
      },
      "source": [
        "#santhoshini\n",
        "df2['is_duplicate'] = df2.duplicated()\n",
        "\n",
        "df2.is_duplicate.value_counts()"
      ],
      "execution_count": null,
      "outputs": [
        {
          "output_type": "execute_result",
          "data": {
            "text/plain": [
              "False    364500\n",
              "True         10\n",
              "Name: is_duplicate, dtype: int64"
            ]
          },
          "metadata": {
            "tags": []
          },
          "execution_count": 27
        }
      ]
    },
    {
      "cell_type": "code",
      "metadata": {
        "id": "ZYhA-IxYTDFe"
      },
      "source": [
        "#santhoshini\n",
        "df2.drop_duplicates(inplace=True)"
      ],
      "execution_count": null,
      "outputs": []
    },
    {
      "cell_type": "code",
      "metadata": {
        "colab": {
          "base_uri": "https://localhost:8080/"
        },
        "id": "e01mDFu-mSpA",
        "outputId": "57293c48-0633-4724-85b1-a855e2d86930"
      },
      "source": [
        "#santhoshini\n",
        "groups = df2.groupby(['state', 'port_name'])\n",
        "print(groups.size())"
      ],
      "execution_count": null,
      "outputs": [
        {
          "output_type": "stream",
          "text": [
            "state       port_name    \n",
            "Alaska      Alcan            3324\n",
            "            Dalton Cache     3316\n",
            "            Ketchikan        1963\n",
            "            Skagway          3382\n",
            "Arizona     Douglas          3409\n",
            "                             ... \n",
            "Washington  Nighthawk        3094\n",
            "            Oroville         3383\n",
            "            Point Roberts    3378\n",
            "            Port Angeles     2239\n",
            "            Sumas            3614\n",
            "Length: 118, dtype: int64\n"
          ],
          "name": "stdout"
        }
      ]
    },
    {
      "cell_type": "code",
      "metadata": {
        "colab": {
          "base_uri": "https://localhost:8080/"
        },
        "id": "Fy9wM1RjUZxs",
        "outputId": "32420771-a120-4554-a317-714e2745ab4b"
      },
      "source": [
        "df2.isnull().values.any()"
      ],
      "execution_count": null,
      "outputs": [
        {
          "output_type": "execute_result",
          "data": {
            "text/plain": [
              "False"
            ]
          },
          "metadata": {
            "tags": []
          },
          "execution_count": 30
        }
      ]
    },
    {
      "cell_type": "code",
      "metadata": {
        "id": "HZWqa6naVZnK",
        "colab": {
          "base_uri": "https://localhost:8080/"
        },
        "outputId": "26e619f2-1817-4add-f4e3-4ba40146b346"
      },
      "source": [
        "df2['value'] = df2['value'].astype(float)\n",
        "\n",
        "df2.info"
      ],
      "execution_count": null,
      "outputs": [
        {
          "output_type": "execute_result",
          "data": {
            "text/plain": [
              "<bound method DataFrame.info of        port_name    state  ...  value is_duplicate\n",
              "0          Alcan   Alaska  ...  690.0        False\n",
              "1          Alcan   Alaska  ...  444.0        False\n",
              "2          Alcan   Alaska  ...  350.0        False\n",
              "3          Alcan   Alaska  ...   51.0        False\n",
              "4          Alcan   Alaska  ...  416.0        False\n",
              "...          ...      ...  ...    ...          ...\n",
              "364505  Whitlash  Montana  ...    0.0        False\n",
              "364506  Whitlash  Montana  ...   63.0        False\n",
              "364507  Whitlash  Montana  ...    0.0        False\n",
              "364508  Whitlash  Montana  ...    0.0        False\n",
              "364509  Whitlash  Montana  ...  123.0        False\n",
              "\n",
              "[364510 rows x 8 columns]>"
            ]
          },
          "metadata": {
            "tags": []
          },
          "execution_count": 31
        }
      ]
    },
    {
      "cell_type": "code",
      "metadata": {
        "colab": {
          "base_uri": "https://localhost:8080/",
          "height": 333
        },
        "id": "HpzDgHuuTFNk",
        "outputId": "f03f8992-bbae-4b8f-fad8-533cab315e28"
      },
      "source": [
        "\n",
        "df2['state'].value_counts().nsmallest(10).plot(kind='bar')"
      ],
      "execution_count": null,
      "outputs": [
        {
          "output_type": "execute_result",
          "data": {
            "text/plain": [
              "<matplotlib.axes._subplots.AxesSubplot at 0x7f9817bf6310>"
            ]
          },
          "metadata": {
            "tags": []
          },
          "execution_count": 32
        },
        {
          "output_type": "display_data",
          "data": {
            "image/png": "[encoded data removed]",
            "text/plain": [
              "<Figure size 432x288 with 1 Axes>"
            ]
          },
          "metadata": {
            "tags": [],
            "needs_background": "light"
          }
        }
      ]
    },
    {
      "cell_type": "code",
      "metadata": {
        "colab": {
          "base_uri": "https://localhost:8080/",
          "height": 339
        },
        "id": "t_p3hmZaTPWi",
        "outputId": "8d25d487-cca3-46eb-eae9-1d4756e746c3"
      },
      "source": [
        "\n",
        "df2['state'].value_counts().nlargest(10).plot(kind='bar')"
      ],
      "execution_count": null,
      "outputs": [
        {
          "output_type": "execute_result",
          "data": {
            "text/plain": [
              "<matplotlib.axes._subplots.AxesSubplot at 0x7f9817b0d450>"
            ]
          },
          "metadata": {
            "tags": []
          },
          "execution_count": 33
        },
        {
          "output_type": "display_data",
          "data": {
            "image/png": "[encoded data removed]",
            "text/plain": [
              "<Figure size 432x288 with 1 Axes>"
            ]
          },
          "metadata": {
            "tags": [],
            "needs_background": "light"
          }
        }
      ]
    },
    {
      "cell_type": "code",
      "metadata": {
        "colab": {
          "base_uri": "https://localhost:8080/"
        },
        "id": "GOdYyUFYUU6O",
        "outputId": "ce1956ca-f9eb-4518-e224-a4c58fc71911"
      },
      "source": [
        "pd.to_numeric(df2['value'], errors='coerce')"
      ],
      "execution_count": null,
      "outputs": [
        {
          "output_type": "execute_result",
          "data": {
            "text/plain": [
              "0         690.0\n",
              "1         444.0\n",
              "2         350.0\n",
              "3          51.0\n",
              "4         416.0\n",
              "          ...  \n",
              "364505      0.0\n",
              "364506     63.0\n",
              "364507      0.0\n",
              "364508      0.0\n",
              "364509    123.0\n",
              "Name: value, Length: 364510, dtype: float64"
            ]
          },
          "metadata": {
            "tags": []
          },
          "execution_count": 34
        }
      ]
    }
  ]
}