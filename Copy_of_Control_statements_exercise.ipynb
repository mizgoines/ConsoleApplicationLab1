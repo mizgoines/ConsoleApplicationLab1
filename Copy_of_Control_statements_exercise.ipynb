{
  "nbformat": 4,
  "nbformat_minor": 0,
  "metadata": {
    "colab": {
      "name": "Copy of Control_statements_exercise.ipynb",
      "provenance": [],
      "collapsed_sections": [],
      "include_colab_link": true
    },
    "kernelspec": {
      "name": "python3",
      "display_name": "Python 3"
    }
  },
  "cells": [
    {
      "cell_type": "markdown",
      "metadata": {
        "id": "view-in-github",
        "colab_type": "text"
      },
      "source": [
        "<a href=\"https://colab.research.google.com/github/mizgoines/ConsoleApplicationLab1/blob/master/Copy_of_Control_statements_exercise.ipynb\" target=\"_parent\"><img src=\"https://colab.research.google.com/assets/colab-badge.svg\" alt=\"Open In Colab\"/></a>"
      ]
    },
    {
      "cell_type": "markdown",
      "metadata": {
        "id": "9hgp2Z3FztJ6"
      },
      "source": [
        "# Please Copy this file by selecting 'File-->Save a Copy in Drive' from the top menu bar, and then start working on these problems. You cannot edit this file as it is a READ-ONLY file. \n",
        "\n",
        "###When you make a copy, you will be able to run the copied file through your account. You can also code your answers in the respective code cells and run the program\n",
        "\n",
        "---\n",
        "#Control Statements\n",
        "Solve the below problems. Once you solve, run the assert statements (if any) in the next cell and make them pass\n",
        "\n",
        "# Problem 1\n",
        "\n",
        "The below program will print all the states and when the state is michigan, it also prints out Home state. However currently it does not compile. Please fix the compilation errors. The output of this program should be\n",
        "\n",
        "michigan -- Home State,ohio,indiana,"
      ]
    },
    {
      "cell_type": "code",
      "metadata": {
        "id": "MGSvCg0RrRaL",
        "colab": {
          "base_uri": "https://localhost:8080/",
          "height": 132
        },
        "outputId": "139cba4e-9f84-4c39-b9c5-e35c9273bf51"
      },
      "source": [
        "states = [\"michigan\", \"ohio\", \"indiana\"]\n",
        "for x in states\n",
        "  if x == \"michigan\"\n",
        "    print(x,'Home State\", sep=' -- ', end=\",\")\n",
        "  else:\n",
        "  print(x, end=\",\")"
      ],
      "execution_count": null,
      "outputs": [
        {
          "output_type": "error",
          "ename": "SyntaxError",
          "evalue": "ignored",
          "traceback": [
            "\u001b[0;36m  File \u001b[0;32m\"<ipython-input-1-15d6d4803ca7>\"\u001b[0;36m, line \u001b[0;32m2\u001b[0m\n\u001b[0;31m    for x in states\u001b[0m\n\u001b[0m                   ^\u001b[0m\n\u001b[0;31mSyntaxError\u001b[0m\u001b[0;31m:\u001b[0m invalid syntax\n"
          ]
        }
      ]
    },
    {
      "cell_type": "markdown",
      "metadata": {
        "id": "4G4C9tGbrpI4"
      },
      "source": [
        "#Problem 2\n",
        "The sum of all even numbers below 10 is 2+4+6+8 = 20\n",
        "\n",
        "Find the sum of all even numbers below 100. Write a program with a 'for' or 'while' loop to solve this problem."
      ]
    },
    {
      "cell_type": "code",
      "metadata": {
        "id": "gHrY9zCnzhyb"
      },
      "source": [
        "total = 0  # update this sum variable in your program\n",
        "# Your program here\n"
      ],
      "execution_count": null,
      "outputs": []
    },
    {
      "cell_type": "code",
      "metadata": {
        "id": "XtYM7dYL2Akd"
      },
      "source": [
        "# TestCase\n",
        "assert (total == 2450)\n",
        "print(\"Test passed!\")"
      ],
      "execution_count": null,
      "outputs": []
    },
    {
      "cell_type": "markdown",
      "metadata": {
        "id": "MvnbWG5Z7vEx"
      },
      "source": [
        "# Problem 3\n",
        "\n",
        "Split the given String at the semicolon (;) separater and add the words that starts with character 'a' to the given list\n",
        " "
      ]
    },
    {
      "cell_type": "code",
      "metadata": {
        "id": "96kEoHZb8BeT",
        "colab": {
          "base_uri": "https://localhost:8080/",
          "height": 34
        },
        "outputId": "7a231849-f946-4d28-f6a5-e52ba2f29964"
      },
      "source": [
        "a = \"almonds;peaches;bananas;apples;oranges;apricots\"\n",
        "a_list = []  # add all the words starting with 'a' to this list\n",
        "# Your code here"
      ],
      "execution_count": null,
      "outputs": [
        {
          "output_type": "execute_result",
          "data": {
            "text/plain": [
              "list"
            ]
          },
          "metadata": {
            "tags": []
          },
          "execution_count": 1
        }
      ]
    },
    {
      "cell_type": "code",
      "metadata": {
        "id": "xfFsvC-v8YcC"
      },
      "source": [
        "#TestCase\n",
        "assert (a_list == ['almonds', 'apples', 'apricots'])\n",
        "print(\"Test passed!\")"
      ],
      "execution_count": null,
      "outputs": []
    },
    {
      "cell_type": "markdown",
      "metadata": {
        "id": "XClsd96sCH4d"
      },
      "source": [
        "# Problem 4\n",
        "\n",
        "Find all the words which are palindrome in the given set of words. A palindrome is a word, which reads the same both forward and backward. E.g., 'madam' is a palidrome. If you reverse the alphabets, starting from the end on 'madam' you still get 'madam'. \n",
        "\n",
        "If a word is a palindrome, irrespective of its case, collect that in another set called 'palindrome'. In other words your program should not be case sensitive. It has to identify the palindrome even if the word has mixed upper and lower case letters"
      ]
    },
    {
      "cell_type": "code",
      "metadata": {
        "id": "WTCNQ0vhCXxp"
      },
      "source": [
        "words = {'maDam', 'kIng', 'ANna', 'kayak', 'levels', 'dad', 'morning'}\n",
        "palindrome = set()\n",
        "# Your code goes here"
      ],
      "execution_count": null,
      "outputs": []
    },
    {
      "cell_type": "code",
      "metadata": {
        "id": "GNGqeWAqDpLc"
      },
      "source": [
        "#TestCase\n",
        "assert (palindrome == {'dad', 'maDam', 'kayak', 'ANna'})\n",
        "print(\"Test passed!\")"
      ],
      "execution_count": null,
      "outputs": []
    },
    {
      "cell_type": "markdown",
      "metadata": {
        "id": "jTtX0Al_GpQt"
      },
      "source": [
        "#Problem 5\n",
        "\n",
        "Replace all the words which contains 'an' with 'bn'. If the word is 'anna' then it gets changed to 'bnna'. If the word is 'banana' then it gets encoded to 'bbnbnas'. Words which do not have 'an' substring in them will be added as-is without any changes"
      ]
    },
    {
      "cell_type": "code",
      "metadata": {
        "id": "sggoickMGz3A",
        "colab": {
          "base_uri": "https://localhost:8080/",
          "height": 34
        },
        "outputId": "8363a22e-f37a-49b9-f584-4f3b324eda28"
      },
      "source": [
        "a = ['almonds','peaches', 'bananas', 'apples', 'oranges', 'apricots']\n",
        "encoded = []\n",
        "# Your code here"
      ],
      "execution_count": null,
      "outputs": [
        {
          "output_type": "execute_result",
          "data": {
            "text/plain": [
              "list"
            ]
          },
          "metadata": {
            "tags": []
          },
          "execution_count": 2
        }
      ]
    },
    {
      "cell_type": "code",
      "metadata": {
        "id": "oZvXK8ctH3E5"
      },
      "source": [
        "#TestCase\n",
        "assert (encoded == ['almonds', 'peaches', 'bbnbnas', 'apples', 'orbnges', 'apricots'])\n",
        "print(\"Test passed!\")"
      ],
      "execution_count": null,
      "outputs": []
    }
  ]
}