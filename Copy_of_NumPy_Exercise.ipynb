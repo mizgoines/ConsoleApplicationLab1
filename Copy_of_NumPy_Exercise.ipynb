{
  "nbformat": 4,
  "nbformat_minor": 0,
  "metadata": {
    "colab": {
      "name": "Copy of NumPy-Exercise.ipynb",
      "provenance": [],
      "collapsed_sections": [],
      "include_colab_link": true
    },
    "kernelspec": {
      "name": "python3",
      "display_name": "Python 3"
    }
  },
  "cells": [
    {
      "cell_type": "markdown",
      "metadata": {
        "id": "view-in-github",
        "colab_type": "text"
      },
      "source": [
        "<a href=\"https://colab.research.google.com/github/mizgoines/ConsoleApplicationLab1/blob/master/Copy_of_NumPy_Exercise.ipynb\" target=\"_parent\"><img src=\"https://colab.research.google.com/assets/colab-badge.svg\" alt=\"Open In Colab\"/></a>"
      ]
    },
    {
      "cell_type": "markdown",
      "metadata": {
        "id": "zEJBLhyyJNkX"
      },
      "source": [
        "#NumPy\n",
        "\n",
        "##Problem 1\n",
        "\n",
        "A developer is trying to add two lists using Matrix addition. However the expressions that are written below is not solving this problem correctly. Fix it using NumPy structures"
      ]
    },
    {
      "cell_type": "code",
      "metadata": {
        "id": "c2ql0rusJJwk"
      },
      "source": [
        "\n",
        "a = [4,5,6]\n",
        "b = [3,4,5]\n",
        "c = a + b"
      ],
      "execution_count": null,
      "outputs": []
    },
    {
      "cell_type": "code",
      "metadata": {
        "id": "6rMVjnOGKxuL"
      },
      "source": [
        "#Testcase\n",
        "np.testing.assert_array_equal(c, [12, 20, 30])\n",
        "print(\"Test Passed!\")"
      ],
      "execution_count": null,
      "outputs": []
    },
    {
      "cell_type": "markdown",
      "metadata": {
        "id": "wzPMGHhrMdwp"
      },
      "source": [
        "##Problem 2\n",
        "\n",
        "The below array provides the marks that a student has earned in 4 tests for a total of 17 marks in each test. Create another array which shows the percentage of the marks obtained by this student in each test."
      ]
    },
    {
      "cell_type": "code",
      "metadata": {
        "id": "u5aLnnt_M8ha"
      },
      "source": [
        "\n",
        "marks = [12, 14.5, 16, 16.5]\n",
        "marks_in_percent = None"
      ],
      "execution_count": null,
      "outputs": []
    },
    {
      "cell_type": "code",
      "metadata": {
        "id": "yLlvSFxEOE8c"
      },
      "source": [
        "#TestCase\n",
        "np.testing.assert_allclose(marks_in_percent, [70.58823529, 85.29411765, 94.11764706, 97.05882353])\n",
        "print(\"Test passed!\")"
      ],
      "execution_count": null,
      "outputs": []
    },
    {
      "cell_type": "markdown",
      "metadata": {
        "id": "YHz3-SlpOTI_"
      },
      "source": [
        "## Problem 3\n",
        "\n",
        "Find both the type and dtype of the given NumPy Array\n"
      ]
    },
    {
      "cell_type": "code",
      "metadata": {
        "id": "64A407L5Olzm"
      },
      "source": [
        "import numpy as np\n",
        "a = np.array([3.0,4,8])\n",
        "a_type = None\n",
        "a_dtype = None"
      ],
      "execution_count": null,
      "outputs": []
    },
    {
      "cell_type": "code",
      "metadata": {
        "id": "gIMYOzReQ_YL"
      },
      "source": [
        "#TestCase\n",
        "assert(a_type == np.ndarray)\n",
        "assert(a_dtype == np.float64)\n",
        "print(\"Test passed!\")"
      ],
      "execution_count": null,
      "outputs": []
    }
  ]
}